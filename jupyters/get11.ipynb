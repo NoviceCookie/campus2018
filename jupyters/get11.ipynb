{
 "cells": [
  {
   "cell_type": "code",
   "execution_count": 1,
   "metadata": {},
   "outputs": [],
   "source": [
    "import pandas as pd\n",
    "import datetime\n",
    "import numpy as np"
   ]
  },
  {
   "cell_type": "code",
   "execution_count": 2,
   "metadata": {},
   "outputs": [],
   "source": [
    "raw11 = pd.read_csv(\"/home/tanyx/dataDemo/campus2018/11.csv\")"
   ]
  },
  {
   "cell_type": "code",
   "execution_count": null,
   "metadata": {},
   "outputs": [],
   "source": [
    "raw11.head()"
   ]
  },
  {
   "cell_type": "code",
   "execution_count": 3,
   "metadata": {},
   "outputs": [],
   "source": [
    "data = {}\n",
    "for i in range(len(raw11)):\n",
    "    time_stamp = raw11.loc[i,\"time_stamp\"]\n",
    "    loc_id = int(raw11.loc[i, \"loc_id\"])\n",
    "    if time_stamp not in data:\n",
    "        data[time_stamp] = [ 0 for i in range(34)]\n",
    "    data[time_stamp][loc_id] += 1"
   ]
  },
  {
   "cell_type": "code",
   "execution_count": 4,
   "metadata": {},
   "outputs": [],
   "source": [
    "f_list = []\n",
    "for k, loc_ids in data.items():\n",
    "    date_time = datetime.datetime.strptime(k, \"%Y-%m-%d %H\")\n",
    "    for i in range(1,34):\n",
    "        if loc_ids[i] > 0:\n",
    "            f_list.append([i, k, loc_ids[i], date_time, date_time.month, date_time.day, date_time.hour, date_time.day//7, date_time.weekday()])"
   ]
  },
  {
   "cell_type": "code",
   "execution_count": 5,
   "metadata": {},
   "outputs": [],
   "source": [
    "frame = pd.DataFrame(f_list, columns=[\"loc_id\", \"time_stamp\", \"num_of_people\", \"datetime\", \"month\", \"day\", \"hour\", \"week\", \"week_day\"])"
   ]
  },
  {
   "cell_type": "code",
   "execution_count": 6,
   "metadata": {},
   "outputs": [],
   "source": [
    "frame = frame.sort_values(by=[\"day\", \"hour\", \"loc_id\"])"
   ]
  },
  {
   "cell_type": "code",
   "execution_count": 7,
   "metadata": {},
   "outputs": [
    {
     "data": {
      "text/plain": [
       "(22876, 9)"
      ]
     },
     "execution_count": 7,
     "metadata": {},
     "output_type": "execute_result"
    }
   ],
   "source": [
    "frame.shape"
   ]
  },
  {
   "cell_type": "markdown",
   "metadata": {},
   "source": [
    "9 99\n",
    "10 726\n",
    "should: 792"
   ]
  },
  {
   "cell_type": "code",
   "execution_count": 8,
   "metadata": {},
   "outputs": [
    {
     "name": "stdout",
     "output_type": "stream",
     "text": [
      "22876\n"
     ]
    }
   ],
   "source": [
    "# 处理缺失值\n",
    "num_nan = 0\n",
    "n_frames = []\n",
    "print(len(frame))\n",
    "for day in range(1, 31):\n",
    "    for hour in range(24):\n",
    "        for loc_id in range(1,34):\n",
    "            if len(frame[(frame[\"day\"]==day)&(frame[\"hour\"]==hour)&(frame[\"loc_id\"]==loc_id)]) == 0:\n",
    "                date_time = datetime.datetime(2017,11,day,hour,0,0)\n",
    "                time_stamp = date_time.strftime(\"%Y-%m-%d %H\")\n",
    "                num_of_people = frame[(frame[\"week_day\"]==date_time.weekday())&(frame[\"hour\"]==hour)&(frame[\"loc_id\"]==loc_id)][\"num_of_people\"].mean()\n",
    "                if num_of_people is not np.nan:\n",
    "                    n_frames.append([loc_id,time_stamp, num_of_people,date_time, 11,day, hour, day//7, date_time.weekday()])\n",
    "                    num_nan+=1"
   ]
  },
  {
   "cell_type": "code",
   "execution_count": 9,
   "metadata": {},
   "outputs": [
    {
     "name": "stdout",
     "output_type": "stream",
     "text": [
      "(884, 9)\n",
      "(23760, 9)\n"
     ]
    }
   ],
   "source": [
    "n_f = pd.DataFrame(n_frames,columns=frame.columns)\n",
    "print(n_f.shape)\n",
    "frame = pd.concat([frame, n_f], ignore_index=True).sort_values(by=[\"month\",\"day\",\"hour\",\"loc_id\"])\n",
    "print(frame.shape)"
   ]
  },
  {
   "cell_type": "code",
   "execution_count": 10,
   "metadata": {},
   "outputs": [],
   "source": [
    "frame.to_csv(\"/home/tanyx/dataDemo/campus2018/holiday_fix_diff11.csv\", index=False)"
   ]
  },
  {
   "cell_type": "code",
   "execution_count": 11,
   "metadata": {},
   "outputs": [],
   "source": [
    "frame1_10 = pd.read_csv(\"/home/tanyx/dataDemo/campus2018/holiday_fix_diff1_10.csv\")\n",
    "frame_all = pd.concat([frame,frame1_10], ignore_index=True).sort_values(by=[\"month\",\"day\",\"hour\",\"loc_id\"])"
   ]
  },
  {
   "cell_type": "code",
   "execution_count": 12,
   "metadata": {},
   "outputs": [
    {
     "data": {
      "text/plain": [
       "(219680, 9)"
      ]
     },
     "execution_count": 12,
     "metadata": {},
     "output_type": "execute_result"
    }
   ],
   "source": [
    "frame_all.shape"
   ]
  },
  {
   "cell_type": "code",
   "execution_count": 13,
   "metadata": {},
   "outputs": [
    {
     "data": {
      "text/plain": [
       "219709"
      ]
     },
     "execution_count": 13,
     "metadata": {},
     "output_type": "execute_result"
    }
   ],
   "source": [
    "23760 + 195949"
   ]
  },
  {
   "cell_type": "code",
   "execution_count": 14,
   "metadata": {},
   "outputs": [],
   "source": [
    "frame_all.to_csv(\"/home/tanyx/dataDemo/campus2018/holiday_fix_diff_all.csv\", index=False)"
   ]
  }
 ],
 "metadata": {
  "kernelspec": {
   "display_name": "Python 3",
   "language": "python",
   "name": "python3"
  },
  "language_info": {
   "codemirror_mode": {
    "name": "ipython",
    "version": 3
   },
   "file_extension": ".py",
   "mimetype": "text/x-python",
   "name": "python",
   "nbconvert_exporter": "python",
   "pygments_lexer": "ipython3",
   "version": "3.5.2"
  }
 },
 "nbformat": 4,
 "nbformat_minor": 2
}
