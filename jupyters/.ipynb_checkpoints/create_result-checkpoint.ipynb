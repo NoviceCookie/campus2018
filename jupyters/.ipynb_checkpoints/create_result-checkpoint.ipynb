{
 "cells": [
  {
   "cell_type": "code",
   "execution_count": null,
   "metadata": {},
   "outputs": [],
   "source": [
    "import datetime\n",
    "import pandas as pd\n",
    "test_data = pd.read_csv(\"/home/tanyx/dataDemo/campus2018/final_result_week_v1.csv\",names=[\"loc_id\",\"time_stamp\",\"num_of_people\"])\n",
    "test_data[\"month\"] = test_data.apply(lambda x: datetime.datetime.strptime(x[\"time_stamp\"], \"%Y-%m-%d %H\").month, axis=1)\n",
    "test_data[\"day\"] = test_data.apply(lambda x: datetime.datetime.strptime(x[\"time_stamp\"], \"%Y-%m-%d %H\").day, axis=1)\n",
    "test_data[\"hour\"] = test_data.apply(lambda x: datetime.datetime.strptime(x[\"time_stamp\"], \"%Y-%m-%d %H\").hour, axis=1)\n",
    "test_data[\"week_day\"] = test_data.apply(lambda x: datetime.datetime.strptime(x[\"time_stamp\"], \"%Y-%m-%d %H\").weekday(), axis=1)"
   ]
  }
 ],
 "metadata": {
  "kernelspec": {
   "display_name": "Python 3",
   "language": "python",
   "name": "python3"
  },
  "language_info": {
   "codemirror_mode": {
    "name": "ipython",
    "version": 3
   },
   "file_extension": ".py",
   "mimetype": "text/x-python",
   "name": "python",
   "nbconvert_exporter": "python",
   "pygments_lexer": "ipython3",
   "version": "3.5.2"
  }
 },
 "nbformat": 4,
 "nbformat_minor": 2
}
