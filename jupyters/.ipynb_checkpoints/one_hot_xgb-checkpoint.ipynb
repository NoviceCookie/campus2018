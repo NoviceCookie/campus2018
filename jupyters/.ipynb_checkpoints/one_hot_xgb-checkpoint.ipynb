{
 "cells": [
  {
   "cell_type": "code",
   "execution_count": 1,
   "metadata": {},
   "outputs": [],
   "source": [
    "import os\n",
    "import pandas as pd\n",
    "import numpy as np\n",
    "import datetime\n",
    "from sklearn.preprocessing import OneHotEncoder\n",
    "from sklearn.linear_model import Lasso\n",
    "from sklearn import metrics\n",
    "from sklearn.model_selection import train_test_split\n",
    "from sklearn.model_selection import RandomizedSearchCV, GridSearchCV\n",
    "from xgboost.sklearn import XGBRegressor"
   ]
  },
  {
   "cell_type": "code",
   "execution_count": 2,
   "metadata": {},
   "outputs": [],
   "source": [
    "train_data = pd.read_csv(\"/home/tanyx/dataDemo/campus2018/holiday_fix_diff_all.csv\")\n",
    "test_data = pd.read_csv(\"/home/tanyx/dataDemo/campus2018/test.csv\")"
   ]
  },
  {
   "cell_type": "code",
   "execution_count": 3,
   "metadata": {},
   "outputs": [],
   "source": [
    "X = train_data[train_data[\"month\"]>0].loc[:,[\"loc_id\",\"month\",\"day\",\"hour\",\"week_day\"]].values\n",
    "y = train_data[train_data[\"month\"]>0][\"num_of_people\"].values\n",
    "X_val = test_data.loc[:,[\"loc_id\",\"month\",\"day\",\"hour\",\"week_day\"]].values"
   ]
  },
  {
   "cell_type": "code",
   "execution_count": 4,
   "metadata": {},
   "outputs": [
    {
     "name": "stdout",
     "output_type": "stream",
     "text": [
      "(219680, 5)\n",
      "(219680,)\n",
      "(24552, 5)\n"
     ]
    }
   ],
   "source": [
    "print(X.shape)\n",
    "print(y.shape)\n",
    "print(X_val.shape)"
   ]
  },
  {
   "cell_type": "code",
   "execution_count": 5,
   "metadata": {
    "scrolled": true
   },
   "outputs": [],
   "source": [
    "enc = OneHotEncoder()\n",
    "enc.fit(np.vstack((X,X_val)))\n",
    "X_one = enc.transform(X)\n",
    "X_val_one = enc.transform(X_val)\n",
    "X_train, X_test, y_train, y_test = train_test_split(X_one, y, test_size=0.1, random_state=0)"
   ]
  },
  {
   "cell_type": "code",
   "execution_count": null,
   "metadata": {},
   "outputs": [],
   "source": [
    "#9,10,11 RMSE: 145.00678362117335\n",
    "#1~11 n_e:600 RMSE: 120\n",
    "#1~11 n_e"
   ]
  },
  {
   "cell_type": "code",
   "execution_count": null,
   "metadata": {},
   "outputs": [],
   "source": [
    "xlf = XGBRegressor(tive='reg:linear', learning_rate=0.07, n_estimators=700, nthread=4, min_child_weight=6, max_depth=16)\n",
    "xlf.fit(X_train, y_train, eval_metric='rmse', verbose = True)\n",
    "predicts = xlf.predict(X_test)\n",
    "for i in range(len(predicts)):\n",
    "    if predicts[i] < 0:\n",
    "        predicts[i] = 0\n",
    "print(\"RMSE:\", np.sqrt(metrics.mean_squared_error(predicts, y_test)))"
   ]
  },
  {
   "cell_type": "code",
   "execution_count": 8,
   "metadata": {},
   "outputs": [
    {
     "data": {
      "text/plain": [
       "(219680, 106)"
      ]
     },
     "execution_count": 8,
     "metadata": {},
     "output_type": "execute_result"
    }
   ],
   "source": [
    "X_one.shape"
   ]
  },
  {
   "cell_type": "code",
   "execution_count": 9,
   "metadata": {},
   "outputs": [
    {
     "data": {
      "text/plain": [
       "(219680,)"
      ]
     },
     "execution_count": 9,
     "metadata": {},
     "output_type": "execute_result"
    }
   ],
   "source": [
    "y.shape"
   ]
  },
  {
   "cell_type": "code",
   "execution_count": null,
   "metadata": {},
   "outputs": [],
   "source": [
    "xlf = XGBRegressor(tive='reg:linear', n_estimators=700, nthread=4, min_child_weight=6)\n",
    "parameters = {\n",
    "    \"learning_rate\":[0.15, 0.2],\n",
    "    \"max_depth\":[16,17]\n",
    "}\n",
    "kr = GridSearchCV(xlf,param_grid=parameters, scoring=\"neg_mean_squared_error\")\n",
    "kr.fit(X_one,y)"
   ]
  },
  {
   "cell_type": "code",
   "execution_count": 19,
   "metadata": {},
   "outputs": [
    {
     "data": {
      "text/plain": [
       "{'learning_rate': 0.15, 'max_depth': 16}"
      ]
     },
     "execution_count": 19,
     "metadata": {},
     "output_type": "execute_result"
    }
   ],
   "source": [
    "kr.best_params_"
   ]
  },
  {
   "cell_type": "code",
   "execution_count": null,
   "metadata": {
    "scrolled": true
   },
   "outputs": [],
   "source": [
    "for i in range(len(predicts)):\n",
    "    if predicts[i] < 0:\n",
    "        predicts[i] = 0\n",
    "test_data[\"num_of_people\"] = predicts"
   ]
  },
  {
   "cell_type": "code",
   "execution_count": null,
   "metadata": {},
   "outputs": [],
   "source": [
    "test_data.to_csv(\"/home/tanyx/dataDemo/campus2018/result.csv\",columns=[\"loc_id\",\"time_stamp\",\"num_of_people\"], index=False, header=False)\n",
    "test_data.to_csv(\"/home/tanyx/dataDemo/campus2018/result_total.csv\", index=False)"
   ]
  },
  {
   "cell_type": "code",
   "execution_count": null,
   "metadata": {},
   "outputs": [],
   "source": []
  },
  {
   "cell_type": "markdown",
   "metadata": {},
   "source": [
    "xlf = XGBRegressor(tive='reg:linear', learning_rate=0.07, n_estimators=500, nthread=4, min_child_weight=6, max_depth=16)\n",
    "RMSE: 210.9309680283141"
   ]
  }
 ],
 "metadata": {
  "kernelspec": {
   "display_name": "Python 3",
   "language": "python",
   "name": "python3"
  },
  "language_info": {
   "codemirror_mode": {
    "name": "ipython",
    "version": 3
   },
   "file_extension": ".py",
   "mimetype": "text/x-python",
   "name": "python",
   "nbconvert_exporter": "python",
   "pygments_lexer": "ipython3",
   "version": "3.5.2"
  }
 },
 "nbformat": 4,
 "nbformat_minor": 2
}
