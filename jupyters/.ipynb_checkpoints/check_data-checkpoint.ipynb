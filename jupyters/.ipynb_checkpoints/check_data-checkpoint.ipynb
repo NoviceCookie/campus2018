{
 "cells": [
  {
   "cell_type": "code",
   "execution_count": 1,
   "metadata": {},
   "outputs": [],
   "source": [
    "from sklearn.model_selection import GridSearchCV, train_test_split\n",
    "from sklearn.kernel_ridge import KernelRidge\n",
    "import xgboost\n",
    "from xgboost.sklearn import XGBRegressor\n",
    "import numpy as np\n",
    "import os\n",
    "import sklearn.metrics as metrics\n",
    "from sklearn import preprocessing\n",
    "\n",
    "base_dir = \"/home/tanyx/dataDemo/campus2018/new_result_data\"\n",
    "csvs = os.listdir(base_dir)\n",
    "datas = []\n",
    "for csv in csvs:\n",
    "    with open(base_dir+\"/\"+csv, mode=\"r\", encoding=\"utf-8\") as f:\n",
    "        f.readline()\n",
    "        for line in f.readlines():\n",
    "            data = line.strip().split(\",\")\n",
    "            data[0] = data[0][-2:]\n",
    "            datas.append(data)"
   ]
  },
  {
   "cell_type": "code",
   "execution_count": 2,
   "metadata": {},
   "outputs": [
    {
     "name": "stderr",
     "output_type": "stream",
     "text": [
      "/usr/local/lib/python3.5/dist-packages/sklearn/utils/validation.py:475: DataConversionWarning: Data with input dtype int64 was converted to float64 by the scale function.\n",
      "  warnings.warn(msg, DataConversionWarning)\n"
     ]
    }
   ],
   "source": [
    "datas = np.array(datas, dtype=int)\n",
    "X = preprocessing.scale(datas[:,:-1])\n",
    "y = datas[:,-1]\n",
    "X_train, X_test, y_train, y_test = train_test_split(X, y, test_size=0.1, random_state=0)\n",
    "xgb_train = xgboost.DMatrix(X_train, label=y_train)\n",
    "xgb_test = xgboost.DMatrix(X_test, label=y_test)"
   ]
  },
  {
   "cell_type": "code",
   "execution_count": 3,
   "metadata": {},
   "outputs": [
    {
     "name": "stdout",
     "output_type": "stream",
     "text": [
      "(206223, 7) (22914, 7)\n"
     ]
    }
   ],
   "source": [
    "print(X_train.shape, X_test.shape)"
   ]
  },
  {
   "cell_type": "code",
   "execution_count": 6,
   "metadata": {},
   "outputs": [
    {
     "name": "stdout",
     "output_type": "stream",
     "text": [
      "[0]\tvalidation_0-rmse:599.335\n",
      "Will train until validation_0-rmse hasn't improved in 100 rounds.\n",
      "[1]\tvalidation_0-rmse:559.441\n",
      "[2]\tvalidation_0-rmse:523.769\n",
      "[3]\tvalidation_0-rmse:493.198\n",
      "[4]\tvalidation_0-rmse:466.56\n",
      "[5]\tvalidation_0-rmse:444.861\n",
      "[6]\tvalidation_0-rmse:428.521\n",
      "[7]\tvalidation_0-rmse:408.998\n",
      "[8]\tvalidation_0-rmse:396.702\n",
      "[9]\tvalidation_0-rmse:383.909\n",
      "[10]\tvalidation_0-rmse:372.772\n",
      "[11]\tvalidation_0-rmse:360.367\n",
      "[12]\tvalidation_0-rmse:352.125\n",
      "[13]\tvalidation_0-rmse:343.705\n",
      "[14]\tvalidation_0-rmse:336.797\n",
      "[15]\tvalidation_0-rmse:331.997\n",
      "[16]\tvalidation_0-rmse:326.222\n",
      "[17]\tvalidation_0-rmse:323.947\n",
      "[18]\tvalidation_0-rmse:319.414\n",
      "[19]\tvalidation_0-rmse:315.14\n",
      "[20]\tvalidation_0-rmse:311.575\n",
      "[21]\tvalidation_0-rmse:309.203\n",
      "[22]\tvalidation_0-rmse:306.136\n",
      "[23]\tvalidation_0-rmse:299.4\n",
      "[24]\tvalidation_0-rmse:297.963\n",
      "[25]\tvalidation_0-rmse:297.068\n",
      "[26]\tvalidation_0-rmse:294.493\n",
      "[27]\tvalidation_0-rmse:286.557\n",
      "[28]\tvalidation_0-rmse:279.422\n",
      "[29]\tvalidation_0-rmse:273.475\n",
      "[30]\tvalidation_0-rmse:272.048\n",
      "[31]\tvalidation_0-rmse:270.317\n",
      "[32]\tvalidation_0-rmse:269.063\n",
      "[33]\tvalidation_0-rmse:268.209\n",
      "[34]\tvalidation_0-rmse:263.448\n",
      "[35]\tvalidation_0-rmse:258.833\n",
      "[36]\tvalidation_0-rmse:255.755\n",
      "[37]\tvalidation_0-rmse:254.993\n",
      "[38]\tvalidation_0-rmse:252.032\n",
      "[39]\tvalidation_0-rmse:251.512\n",
      "[40]\tvalidation_0-rmse:250.894\n",
      "[41]\tvalidation_0-rmse:250.289\n",
      "[42]\tvalidation_0-rmse:248.239\n",
      "[43]\tvalidation_0-rmse:247.756\n",
      "[44]\tvalidation_0-rmse:247.339\n",
      "[45]\tvalidation_0-rmse:246.554\n",
      "[46]\tvalidation_0-rmse:246.19\n",
      "[47]\tvalidation_0-rmse:243.195\n",
      "[48]\tvalidation_0-rmse:242.618\n",
      "[49]\tvalidation_0-rmse:241.667\n",
      "[50]\tvalidation_0-rmse:241.096\n",
      "[51]\tvalidation_0-rmse:240.411\n",
      "[52]\tvalidation_0-rmse:239.229\n",
      "[53]\tvalidation_0-rmse:238.03\n",
      "[54]\tvalidation_0-rmse:237.725\n",
      "[55]\tvalidation_0-rmse:235.936\n",
      "[56]\tvalidation_0-rmse:235.319\n",
      "[57]\tvalidation_0-rmse:235.121\n",
      "[58]\tvalidation_0-rmse:234.524\n",
      "[59]\tvalidation_0-rmse:233.713\n",
      "[60]\tvalidation_0-rmse:233.354\n",
      "[61]\tvalidation_0-rmse:232.505\n",
      "[62]\tvalidation_0-rmse:231.548\n",
      "[63]\tvalidation_0-rmse:230.35\n",
      "[64]\tvalidation_0-rmse:230.17\n",
      "[65]\tvalidation_0-rmse:228.768\n",
      "[66]\tvalidation_0-rmse:228.176\n",
      "[67]\tvalidation_0-rmse:227.976\n",
      "[68]\tvalidation_0-rmse:227.472\n",
      "[69]\tvalidation_0-rmse:227.333\n",
      "[70]\tvalidation_0-rmse:226.84\n",
      "[71]\tvalidation_0-rmse:226.578\n",
      "[72]\tvalidation_0-rmse:226.002\n",
      "[73]\tvalidation_0-rmse:225.676\n",
      "[74]\tvalidation_0-rmse:225.35\n",
      "[75]\tvalidation_0-rmse:225.035\n",
      "[76]\tvalidation_0-rmse:224.811\n",
      "[77]\tvalidation_0-rmse:224.654\n",
      "[78]\tvalidation_0-rmse:224.598\n",
      "[79]\tvalidation_0-rmse:223.246\n",
      "[80]\tvalidation_0-rmse:222.293\n",
      "[81]\tvalidation_0-rmse:222.1\n",
      "[82]\tvalidation_0-rmse:221.871\n",
      "[83]\tvalidation_0-rmse:219.137\n",
      "[84]\tvalidation_0-rmse:217.229\n",
      "[85]\tvalidation_0-rmse:216.717\n",
      "[86]\tvalidation_0-rmse:216.44\n",
      "[87]\tvalidation_0-rmse:216.075\n",
      "[88]\tvalidation_0-rmse:215.84\n",
      "[89]\tvalidation_0-rmse:215.659\n",
      "[90]\tvalidation_0-rmse:215.142\n",
      "[91]\tvalidation_0-rmse:214.983\n",
      "[92]\tvalidation_0-rmse:214.886\n",
      "[93]\tvalidation_0-rmse:214.078\n",
      "[94]\tvalidation_0-rmse:213.621\n",
      "[95]\tvalidation_0-rmse:212.035\n",
      "[96]\tvalidation_0-rmse:211.589\n",
      "[97]\tvalidation_0-rmse:211.02\n",
      "[98]\tvalidation_0-rmse:210.873\n",
      "[99]\tvalidation_0-rmse:210.71\n"
     ]
    },
    {
     "data": {
      "text/plain": [
       "XGBRegressor(base_score=0.5, booster='gbtree', colsample_bylevel=1,\n",
       "       colsample_bytree=0.8, gamma=0.1, learning_rate=0.1,\n",
       "       max_delta_step=0, max_depth=6, min_child_weight=6, missing=None,\n",
       "       n_estimators=100, n_jobs=1, nthread=4, objective='reg:linear',\n",
       "       random_state=0, reg_alpha=0, reg_lambda=1, scale_pos_weight=1,\n",
       "       seed=27, silent=True, subsample=0.8)"
      ]
     },
     "execution_count": 6,
     "metadata": {},
     "output_type": "execute_result"
    }
   ],
   "source": [
    "xlf = XGBRegressor(max_depth=6, \n",
    "                    learning_rate=0.1, \n",
    "                    silent=True, \n",
    "                    objective='reg:linear', \n",
    "                    nthread=4, \n",
    "                    gamma=0.1,\n",
    "                    min_child_weight=6,\n",
    "                    subsample=0.8, \n",
    "                    colsample_bytree=0.8,\n",
    "                    scale_pos_weight=1, \n",
    "                    seed=27)\n",
    "xlf.fit(X_train, y_train, eval_metric='rmse', verbose = True, eval_set = [(X_test, y_test)],early_stopping_rounds=100)"
   ]
  },
  {
   "cell_type": "code",
   "execution_count": 7,
   "metadata": {},
   "outputs": [
    {
     "name": "stdout",
     "output_type": "stream",
     "text": [
      "RMSE: 210.70963062586387\n"
     ]
    }
   ],
   "source": [
    "predicts = xlf.predict(X_test)\n",
    "print(\"RMSE:\", np.sqrt(metrics.mean_squared_error(y_test, predicts)))"
   ]
  },
  {
   "cell_type": "code",
   "execution_count": null,
   "metadata": {},
   "outputs": [],
   "source": [
    "# validate\n",
    "import json\n",
    "with open(\"vals.json\", mode=\"r\", encoding=\"utf-8\") as f:\n",
    "    vals = json.loads(f.read())\n",
    "    for i in range(len(vals)):\n",
    "        vals[i][0] = vals[i][0][-2:]\n",
    "\n",
    "vals = np.array(vals, dtype=int)\n",
    "predicts = xlf.predict(vals)"
   ]
  },
  {
   "cell_type": "code",
   "execution_count": null,
   "metadata": {},
   "outputs": [],
   "source": [
    "predicts[0]"
   ]
  },
  {
   "cell_type": "code",
   "execution_count": null,
   "metadata": {},
   "outputs": [],
   "source": [
    "import datetime\n",
    "year = 2017\n",
    "month = 11\n",
    "results = []\n",
    "i = 0\n",
    "for day in range(1, 31):\n",
    "    for hour in range(0, 24):\n",
    "        for loc_id in range(1, 34):\n",
    "            results.append([loc_id, datetime.datetime(year,month,day,hour,0,0).strftime(\"%Y-%m-%d %H\"), int(predicts[i])])\n",
    "            i+=1\n",
    "with open(\"result.csv\", mode=\"w\", encoding=\"utf-8\") as f:\n",
    "    for result in results:\n",
    "        f.write(\"%d,%s,%d\\n\" % (result[0], result[1], result[2]))"
   ]
  },
  {
   "cell_type": "code",
   "execution_count": null,
   "metadata": {},
   "outputs": [],
   "source": [
    "# kernal ridge\n",
    "kr = GridSearchCV(KernelRidge(kernel='chi2', gamma=0.1), cv=10, pre_dispatch=1,\n",
    "                    param_grid={\"alpha\": [1e0, 0.1, 1e-2, 1e-3],\n",
    "                                \"gamma\": np.logspace(-2, 2, 5)})\n",
    "print(X.shape)\n",
    "print(y.shape)\n",
    "kr.fit(X[:50000,:], y[:50000])\n",
    "predicted = kr.predict(X)\n",
    "\n",
    "\n",
    "print(\"MSE:\",metrics.mean_squared_error(y, predicted))\n",
    "print(\"RMSE:\",np.sqrt(metrics.mean_squared_error(y, predicted)))\n",
    "# fig, ax = plt.subplots()\n",
    "# ax.scatter(y, predicted)\n",
    "# ax.plot([y.min(), y.max()], [y.min(), y.max()], 'k--', lw=4)\n",
    "# ax.set_xlabel('KRMeasured')\n",
    "# ax.set_ylabel('KRPredicted')\n",
    "# plt.show()"
   ]
  },
  {
   "cell_type": "code",
   "execution_count": null,
   "metadata": {},
   "outputs": [],
   "source": []
  }
 ],
 "metadata": {
  "kernelspec": {
   "display_name": "Python 3",
   "language": "python",
   "name": "python3"
  },
  "language_info": {
   "codemirror_mode": {
    "name": "ipython",
    "version": 3
   },
   "file_extension": ".py",
   "mimetype": "text/x-python",
   "name": "python",
   "nbconvert_exporter": "python",
   "pygments_lexer": "ipython3",
   "version": "3.5.2"
  }
 },
 "nbformat": 4,
 "nbformat_minor": 2
}
