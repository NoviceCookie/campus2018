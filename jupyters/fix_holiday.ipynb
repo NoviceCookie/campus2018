{
 "cells": [
  {
   "cell_type": "code",
   "execution_count": 1,
   "metadata": {},
   "outputs": [],
   "source": [
    "import pandas as pd\n",
    "import os\n",
    "import datetime\n",
    "import numpy as np\n",
    "base_dir = \"/home/tanyx/dataDemo/campus2018/not_date\"\n",
    "# frame = pd.read_csv(\"/home/tanyx/dataDemo/campus2018/no_holiday_all.csv\")"
   ]
  },
  {
   "cell_type": "code",
   "execution_count": 2,
   "metadata": {},
   "outputs": [],
   "source": [
    "frames = []\n",
    "for csv in os.listdir(base_dir):\n",
    "    frames.append(pd.read_csv(os.path.join(base_dir, csv), sep=\",\", encoding=\"utf-8\"))\n",
    "frame = pd.concat(frames,ignore_index=True)"
   ]
  },
  {
   "cell_type": "code",
   "execution_count": null,
   "metadata": {
    "scrolled": true
   },
   "outputs": [],
   "source": [
    "frames[0].head()"
   ]
  },
  {
   "cell_type": "code",
   "execution_count": 3,
   "metadata": {},
   "outputs": [],
   "source": [
    "frame[\"datetime\"] = frame.apply(lambda x: datetime.datetime.strptime(x[\"time_stamp\"], \"%Y-%m-%d %H\"), axis=1)\n",
    "frame[\"month\"] = frame.apply(lambda x: x[\"datetime\"].month, axis=1)\n",
    "frame[\"day\"] = frame.apply(lambda x: x[\"datetime\"].day, axis=1)\n",
    "frame[\"hour\"] = frame.apply(lambda x: x[\"datetime\"].hour, axis=1)\n",
    "frame[\"week\"] = frame.apply(lambda x: x[\"day\"]//7, axis=1)\n",
    "frame[\"week_day\"] = frame.apply(lambda x: x[\"datetime\"].weekday(), axis=1)"
   ]
  },
  {
   "cell_type": "code",
   "execution_count": 4,
   "metadata": {},
   "outputs": [
    {
     "name": "stdout",
     "output_type": "stream",
     "text": [
      "(160385, 9)\n"
     ]
    }
   ],
   "source": [
    "print(frame.shape)"
   ]
  },
  {
   "cell_type": "code",
   "execution_count": null,
   "metadata": {},
   "outputs": [],
   "source": []
  },
  {
   "cell_type": "code",
   "execution_count": 5,
   "metadata": {},
   "outputs": [],
   "source": [
    "# 按照loc_id对应的值来删除数据\n",
    "class Location(object):\n",
    "\n",
    "    def __init__(self):\n",
    "        self.under_dorms = [18, 30, 23, 11, 31, 6, 3, 32, 7, 9, 5, 1, 2, 19]\n",
    "        self.master_dorms = [17, 28, 21, 25, 4]\n",
    "        self.dining_halls = [29, 10, 12, 8]\n",
    "        self.classrooms = [22, 15, 16, 24, 14, 22, 27]\n",
    "        self.labs = [20]\n",
    "\n",
    "    def check_loc(self, loc_id):\n",
    "        if loc_id in self.under_dorms:\n",
    "            return 0\n",
    "        if loc_id in self.master_dorms:\n",
    "            return 1\n",
    "        if loc_id in self.dining_halls:\n",
    "            return 2\n",
    "        if loc_id in self.classrooms:\n",
    "            return 3\n",
    "        if loc_id in self.labs:\n",
    "            return 4\n",
    "location = Location()"
   ]
  },
  {
   "cell_type": "code",
   "execution_count": 6,
   "metadata": {},
   "outputs": [],
   "source": [
    "class Day(object):\n",
    "    def __init__(self):\n",
    "        self.holidays = [\n",
    "            datetime.date(2017, 1, 1),\n",
    "            datetime.date(2017, 1, 2),\n",
    "            datetime.date(2017, 4, 2),\n",
    "            datetime.date(2017, 4, 3),\n",
    "            datetime.date(2017, 4, 4),\n",
    "            datetime.date(2017, 4, 29),\n",
    "            datetime.date(2017, 4, 30),\n",
    "            datetime.date(2017, 5, 1),\n",
    "            datetime.date(2017, 5, 28),\n",
    "            datetime.date(2017, 5, 29),\n",
    "            datetime.date(2017, 5, 30),\n",
    "            datetime.date(2017, 10, 1),\n",
    "            datetime.date(2017, 10, 2),\n",
    "            datetime.date(2017, 10, 3),\n",
    "            datetime.date(2017, 10, 4),\n",
    "            datetime.date(2017, 10, 5),\n",
    "            datetime.date(2017, 10, 6),\n",
    "            datetime.date(2017, 10, 7),\n",
    "            datetime.date(2017, 10, 8),\n",
    "            datetime.date(2017, 12, 30),\n",
    "            datetime.date(2017, 12, 31)\n",
    "        ]\n",
    "        self.winter_vocation = (datetime.date(2017, 1, 21),\n",
    "                                datetime.date(2017, 2, 25))\n",
    "        self.summer_vocation = (datetime.date(2017, 7, 15),\n",
    "                                datetime.date(2017, 8, 29))\n",
    "        self.still_working = [\n",
    "            datetime.date(2017, 4, 1),\n",
    "            datetime.date(2017, 5, 27),\n",
    "            datetime.date(2017, 9, 30)\n",
    "        ]\n",
    "\n",
    "    def check_day(self, day):\n",
    "        if (self.winter_vocation[0] < day < self.winter_vocation[1]) or (self.summer_vocation[0] < day < self.summer_vocation[1]):\n",
    "            return 3  # 长假\n",
    "        if day in self.holidays:\n",
    "            return 2  # 短假\n",
    "        if (day.weekday() > 4) and (day not in self.still_working):\n",
    "            return 1  # 周末\n",
    "        return 0  # 工作\n",
    "\n",
    "check_day = Day()"
   ]
  },
  {
   "cell_type": "markdown",
   "metadata": {},
   "source": [
    "修正点的规则：\n",
    "    1、教学楼去掉所有假期数据 -- 3\n",
    "    2、本科生宿舍去掉假期数据 -- 0\n",
    "    3、研究生宿舍去掉平时假期的数据（7月份的不去）-- 1\n",
    "    4、食堂去掉所有假期的数据 -- 2\n",
    "    5、科研楼去掉平时假期的数据 -- 4"
   ]
  },
  {
   "cell_type": "code",
   "execution_count": null,
   "metadata": {},
   "outputs": [],
   "source": [
    "frame.head()"
   ]
  },
  {
   "cell_type": "code",
   "execution_count": 7,
   "metadata": {},
   "outputs": [
    {
     "name": "stdout",
     "output_type": "stream",
     "text": [
      "160385\n",
      "1 31\n",
      "3 31\n",
      "4 30\n",
      "5 31\n",
      "6 30\n",
      "7 31\n",
      "9 30\n",
      "10 31\n"
     ]
    }
   ],
   "source": [
    "num_nan = 0\n",
    "n_frames = []\n",
    "print(len(frame))\n",
    "for month in [1,3,4,5,6,7,9,10]:\n",
    "    day_max = 31\n",
    "    if month in [4, 6, 9]:\n",
    "        day_max -=1\n",
    "    print(month, day_max)\n",
    "    for day in range(1, day_max+1):\n",
    "        for hour in range(24):\n",
    "            for loc_id in range(1,34):\n",
    "                if len(frame[(frame[\"day\"]==day)&(frame[\"month\"]==month)&(frame[\"hour\"]==hour)&(frame[\"loc_id\"]==loc_id)]) == 0:\n",
    "                    date_time = datetime.datetime(2017,month,day,hour,0,0)\n",
    "                    time_stamp = date_time.strftime(\"%Y-%m-%d %H\")\n",
    "                    num_of_people = frame[(frame[\"week_day\"]==date_time.weekday())&(frame[\"month\"]==month)&(frame[\"hour\"]==hour)&(frame[\"loc_id\"]==loc_id)][\"num_of_people\"].mean()\n",
    "                    if num_of_people is not np.nan:\n",
    "                        n_frames.append([loc_id,time_stamp, num_of_people,date_time, month,day, hour, day//7, date_time.weekday()])\n",
    "                        num_nan+=1"
   ]
  },
  {
   "cell_type": "code",
   "execution_count": 8,
   "metadata": {},
   "outputs": [
    {
     "name": "stdout",
     "output_type": "stream",
     "text": [
      "(35535, 9)\n",
      "(195920, 9)\n"
     ]
    }
   ],
   "source": [
    "n_f = pd.DataFrame(n_frames,columns=frame.columns)\n",
    "print(n_f.shape)\n",
    "frame = pd.concat([frame, n_f], ignore_index=True).sort_values(by=[\"month\",\"day\",\"hour\",\"loc_id\"])\n",
    "print(frame.shape)"
   ]
  },
  {
   "cell_type": "code",
   "execution_count": 9,
   "metadata": {
    "scrolled": true
   },
   "outputs": [
    {
     "name": "stdout",
     "output_type": "stream",
     "text": [
      "(195920, 9)\n"
     ]
    }
   ],
   "source": [
    "num_nan2 = 0\n",
    "# 处理假期值\n",
    "for i in range(len(frame)):\n",
    "    loc_id = frame.loc[i,\"loc_id\"]\n",
    "    loc = location.check_loc(loc_id)\n",
    "    day_type = check_day.check_day(frame.loc[i,\"datetime\"].date())\n",
    "    if day_type == 3: # 长假\n",
    "        if loc in [1, 2, 4]:\n",
    "            week_day = frame.loc[i, \"week_day\"]\n",
    "            month = frame.loc[i, \"month\"]\n",
    "            hour = frame.loc[i, \"hour\"]\n",
    "            v = frame[(frame[\"week_day\"]==week_day)&(frame[\"month\"]==month)&(frame[\"hour\"]==hour)&(frame[\"loc_id\"]==loc_id)][\"num_of_people\"].mean()\n",
    "            if v is not np.nan:\n",
    "                frame.loc[i, \"num_of_people\"] = v\n",
    "                num_nan2 +=1\n",
    "            \n",
    "    if day_type == 2:\n",
    "        week_day = frame.loc[i, \"week_day\"]\n",
    "        month = frame.loc[i, \"month\"]\n",
    "        hour = frame.loc[i, \"hour\"]\n",
    "        v = frame[(frame[\"week_day\"]==week_day)&(frame[\"month\"]==month)&(frame[\"hour\"]==hour)&(frame[\"loc_id\"]==loc_id)][\"num_of_people\"].mean()\n",
    "        if v is not np.nan:\n",
    "            frame.loc[i, \"num_of_people\"] = v\n",
    "            num_nan2 +=1\n",
    "print(frame.shape)\n",
    "frame = frame.sort_values(by=[\"month\",\"day\",\"hour\",\"loc_id\"])\n",
    "frame.to_csv(\"/home/tanyx/dataDemo/campus2018/holiday_fix_diff1_10.csv\",index=False, encoding=\"utf-8\")"
   ]
  },
  {
   "cell_type": "code",
   "execution_count": 12,
   "metadata": {},
   "outputs": [
    {
     "data": {
      "text/plain": [
       "21288"
      ]
     },
     "execution_count": 12,
     "metadata": {},
     "output_type": "execute_result"
    }
   ],
   "source": [
    "# 单独提取假期：\n",
    "holidays = []\n",
    "for i in range(len(frame)):\n",
    "    if check_day.check_day(frame.loc[i, \"datetime\"].date()) == 2:\n",
    "        holidays.append(frame.loc[i,:])\n",
    "holiday_frame = pd.DataFrame(holidays, columns=frame.columns).sort_values([\"month\", \"day\", \"hour\", \"loc_id\"])\n",
    "# holiday_frame.to_csv(\"/home/tanyx/dataDemo/campus2018/holiday.csv\", index=False)"
   ]
  },
  {
   "cell_type": "code",
   "execution_count": null,
   "metadata": {},
   "outputs": [],
   "source": [
    "# holiday_frame = pd.read_csv(\"/home/tanyx/dataDemo/campus2018/holiday.csv\")\n",
    "# 计算节假日权重\n",
    "weight = {}\n",
    "for i in [1,3,4,5,6,7,9,10,11]:\n",
    "    weight[i] = {}\n",
    "    for hour in range(24):\n",
    "        weight[i][hour] = [1 for i in range(34)]\n",
    "        for loc_id in range(1,34):\n",
    "            holiday_value = holiday_frame[(holiday_frame[\"month\"]==i)&(holiday_frame[\"hour\"]==hour)&(holiday_frame[\"loc_id\"]==loc_id)][\"num_of_people\"].mean()\n",
    "            all_value = frame[(frame[\"month\"]==i)&(frame[\"hour\"]==hour)&(frame[\"loc_id\"]==loc_id)][\"num_of_people\"].mean()\n",
    "            weight[i][hour][loc_id] = holiday_value / all_value\n",
    "weight_list = []\n",
    "for month, value in weight.items():\n",
    "    for hour, loc_ids in value.items():\n",
    "        for loc_id in range(1,34):\n",
    "            w = loc_ids[loc_id]\n",
    "            weight_list.append([month, hour, loc_id, w])\n",
    "weight_frame = pd.DataFrame(weight_list, columns=[\"month\",\"hour\",\"loc_id\",\"weight\"])\n",
    "weight_frame.to_csv(\"/home/tanyx/dataDemo/campus2018/holiday_weight.csv\", index=False)"
   ]
  },
  {
   "cell_type": "code",
   "execution_count": 14,
   "metadata": {},
   "outputs": [],
   "source": []
  }
 ],
 "metadata": {
  "kernelspec": {
   "display_name": "Python 3",
   "language": "python",
   "name": "python3"
  },
  "language_info": {
   "codemirror_mode": {
    "name": "ipython",
    "version": 3
   },
   "file_extension": ".py",
   "mimetype": "text/x-python",
   "name": "python",
   "nbconvert_exporter": "python",
   "pygments_lexer": "ipython3",
   "version": "3.5.2"
  }
 },
 "nbformat": 4,
 "nbformat_minor": 2
}
