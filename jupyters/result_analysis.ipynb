{
 "cells": [
  {
   "cell_type": "code",
   "execution_count": 2,
   "metadata": {},
   "outputs": [],
   "source": [
    "total = (211.2644 ** 2 - 211.0151**2) * 24552"
   ]
  },
  {
   "cell_type": "code",
   "execution_count": 15,
   "metadata": {},
   "outputs": [
    {
     "data": {
      "text/plain": [
       "245.52000000000004"
      ]
     },
     "execution_count": 15,
     "metadata": {},
     "output_type": "execute_result"
    }
   ],
   "source": []
  },
  {
   "cell_type": "code",
   "execution_count": 5,
   "metadata": {},
   "outputs": [],
   "source": [
    "import numpy as np\n",
    "import pandas as pd"
   ]
  },
  {
   "cell_type": "code",
   "execution_count": 12,
   "metadata": {},
   "outputs": [],
   "source": [
    "frame = pd.read_csv(\"/home/tanyx/dataDemo/campus2018/final_result_1.csv\", header=None, names=[\"loc_id\", \"time_stamp\", \"num_of_people\"])"
   ]
  },
  {
   "cell_type": "code",
   "execution_count": 17,
   "metadata": {},
   "outputs": [],
   "source": [
    "frame1 = pd.read_csv(\"/home/tanyx/dataDemo/campus2018/final_result_xx.csv\", header=None, names=[\"loc_id\", \"time_stamp\", \"num_of_people\"])"
   ]
  },
  {
   "cell_type": "code",
   "execution_count": 18,
   "metadata": {},
   "outputs": [
    {
     "name": "stdout",
     "output_type": "stream",
     "text": [
      "11.5 11.0\n",
      "9.5 9.0\n",
      "16.247356500000002 16.0\n",
      "8.7020895 8.0\n",
      "21.003315 21.0\n",
      "9.5374265 9.0\n"
     ]
    }
   ],
   "source": [
    "for i in range(len(frame)):\n",
    "    if frame.loc[i,\"num_of_people\"] != frame1.loc[i,\"num_of_people\"]:\n",
    "        print(frame.loc[i,\"num_of_people\"] , frame1.loc[i,\"num_of_people\"])"
   ]
  }
 ],
 "metadata": {
  "kernelspec": {
   "display_name": "Python 3",
   "language": "python",
   "name": "python3"
  },
  "language_info": {
   "codemirror_mode": {
    "name": "ipython",
    "version": 3
   },
   "file_extension": ".py",
   "mimetype": "text/x-python",
   "name": "python",
   "nbconvert_exporter": "python",
   "pygments_lexer": "ipython3",
   "version": "3.5.2"
  }
 },
 "nbformat": 4,
 "nbformat_minor": 2
}
