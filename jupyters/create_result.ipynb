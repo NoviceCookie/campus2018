{
 "cells": [
  {
   "cell_type": "code",
   "execution_count": 3,
   "metadata": {},
   "outputs": [],
   "source": [
    "import datetime\n",
    "import pandas as pd\n",
    "test_list = []\n",
    "month = 12\n",
    "for day in range(1,32):\n",
    "    for hour in range(24):\n",
    "        for loc_id in range(1,34):\n",
    "            date_time = datetime.datetime(2017,12,day,hour,0,0)\n",
    "            test_list.append([loc_id, date_time.strftime(\"%Y-%m-%d %H\"), 12, day, hour, date_time.weekday()])\n",
    "test_data = pd.DataFrame(test_list, columns=[\"loc_id\", \"time_stamp\", \"month\", \"day\", \"hour\", \"week_day\"]).sort_values(by=[\"month\",\"day\",\"hour\",\"loc_id\"])\n",
    "test_data.to_csv(\"/home/tanyx/dataDemo/campus2018/test.csv\", index=False)"
   ]
  },
  {
   "cell_type": "code",
   "execution_count": null,
   "metadata": {},
   "outputs": [],
   "source": []
  }
 ],
 "metadata": {
  "kernelspec": {
   "display_name": "Python 3",
   "language": "python",
   "name": "python3"
  },
  "language_info": {
   "codemirror_mode": {
    "name": "ipython",
    "version": 3
   },
   "file_extension": ".py",
   "mimetype": "text/x-python",
   "name": "python",
   "nbconvert_exporter": "python",
   "pygments_lexer": "ipython3",
   "version": "3.5.2"
  }
 },
 "nbformat": 4,
 "nbformat_minor": 2
}
